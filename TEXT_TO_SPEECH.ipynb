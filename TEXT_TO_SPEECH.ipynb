{
 "cells": [
  {
   "cell_type": "code",
   "execution_count": 1,
   "id": "7a95748a",
   "metadata": {},
   "outputs": [
    {
     "name": "stdout",
     "output_type": "stream",
     "text": [
      "Requirement already satisfied: gTTS in c:\\users\\dell\\anaconda3\\lib\\site-packages (2.3.2)\n",
      "Requirement already satisfied: requests<3,>=2.27 in c:\\users\\dell\\anaconda3\\lib\\site-packages (from gTTS) (2.31.0)\n",
      "Requirement already satisfied: click<8.2,>=7.1 in c:\\users\\dell\\anaconda3\\lib\\site-packages (from gTTS) (8.0.4)\n",
      "Requirement already satisfied: colorama in c:\\users\\dell\\anaconda3\\lib\\site-packages (from click<8.2,>=7.1->gTTS) (0.4.6)\n",
      "Requirement already satisfied: charset-normalizer<4,>=2 in c:\\users\\dell\\anaconda3\\lib\\site-packages (from requests<3,>=2.27->gTTS) (2.0.4)\n",
      "Requirement already satisfied: idna<4,>=2.5 in c:\\users\\dell\\anaconda3\\lib\\site-packages (from requests<3,>=2.27->gTTS) (2.10)\n",
      "Requirement already satisfied: urllib3<3,>=1.21.1 in c:\\users\\dell\\anaconda3\\lib\\site-packages (from requests<3,>=2.27->gTTS) (1.26.16)\n",
      "Requirement already satisfied: certifi>=2017.4.17 in c:\\users\\dell\\anaconda3\\lib\\site-packages (from requests<3,>=2.27->gTTS) (2020.6.20)\n"
     ]
    }
   ],
   "source": [
    "!pip install gTTS"
   ]
  },
  {
   "cell_type": "code",
   "execution_count": 2,
   "id": "f571328a",
   "metadata": {},
   "outputs": [
    {
     "name": "stdout",
     "output_type": "stream",
     "text": [
      "Requirement already satisfied: pyttsx3 in c:\\users\\dell\\anaconda3\\lib\\site-packages (2.90)\n",
      "Requirement already satisfied: comtypes in c:\\users\\dell\\anaconda3\\lib\\site-packages (from pyttsx3) (1.2.0)\n",
      "Requirement already satisfied: pypiwin32 in c:\\users\\dell\\anaconda3\\lib\\site-packages (from pyttsx3) (223)\n",
      "Requirement already satisfied: pywin32 in c:\\users\\dell\\anaconda3\\lib\\site-packages (from pyttsx3) (305.1)\n"
     ]
    }
   ],
   "source": [
    "!pip install pyttsx3"
   ]
  },
  {
   "cell_type": "code",
   "execution_count": 3,
   "id": "5bac5707",
   "metadata": {},
   "outputs": [
    {
     "name": "stdout",
     "output_type": "stream",
     "text": [
      "Collecting pygobject\n",
      "  Downloading PyGObject-3.46.0.tar.gz (723 kB)\n",
      "     ---------------------------------------- 0.0/723.4 kB ? eta -:--:--\n",
      "     - ----------------------------------- 30.7/723.4 kB 660.6 kB/s eta 0:00:02\n",
      "     -- ---------------------------------- 41.0/723.4 kB 393.8 kB/s eta 0:00:02\n",
      "     ----- ------------------------------ 112.6/723.4 kB 819.2 kB/s eta 0:00:01\n",
      "     ---------- --------------------------- 194.6/723.4 kB 1.1 MB/s eta 0:00:01\n",
      "     ------------ ------------------------- 245.8/723.4 kB 1.3 MB/s eta 0:00:01\n",
      "     ------------------ ------------------- 358.4/723.4 kB 1.3 MB/s eta 0:00:01\n",
      "     --------------------- ---------------- 409.6/723.4 kB 1.3 MB/s eta 0:00:01\n",
      "     ----------------------- -------------- 450.6/723.4 kB 1.3 MB/s eta 0:00:01\n",
      "     ----------------------- -------------- 450.6/723.4 kB 1.3 MB/s eta 0:00:01\n",
      "     -------------------------------------  716.8/723.4 kB 1.6 MB/s eta 0:00:01\n",
      "     -------------------------------------- 723.4/723.4 kB 1.5 MB/s eta 0:00:00\n",
      "  Installing build dependencies: started\n",
      "  Installing build dependencies: finished with status 'done'\n",
      "  Getting requirements to build wheel: started\n",
      "  Getting requirements to build wheel: finished with status 'done'\n",
      "  Preparing metadata (pyproject.toml): started\n",
      "  Preparing metadata (pyproject.toml): finished with status 'done'\n",
      "Collecting pycairo>=1.16.0 (from pygobject)\n",
      "  Obtaining dependency information for pycairo>=1.16.0 from https://files.pythonhosted.org/packages/4d/80/d6a59dbc9e0c4cdc78c94e90959a0da6e461582172efcc5f79602a6d208b/pycairo-1.24.0-cp311-cp311-win_amd64.whl.metadata\n",
      "  Using cached pycairo-1.24.0-cp311-cp311-win_amd64.whl.metadata (2.8 kB)\n",
      "Using cached pycairo-1.24.0-cp311-cp311-win_amd64.whl (1.2 MB)\n",
      "Building wheels for collected packages: pygobject\n",
      "  Building wheel for pygobject (pyproject.toml): started\n",
      "  Building wheel for pygobject (pyproject.toml): finished with status 'error'\n",
      "Failed to build pygobject\n"
     ]
    },
    {
     "name": "stderr",
     "output_type": "stream",
     "text": [
      "  error: subprocess-exited-with-error\n",
      "  \n",
      "  Building wheel for pygobject (pyproject.toml) did not run successfully.\n",
      "  exit code: 1\n",
      "  \n",
      "  [47 lines of output]\n",
      "  running bdist_wheel\n",
      "  running build\n",
      "  running build_py\n",
      "  creating build\n",
      "  creating build\\lib.win-amd64-cpython-311\n",
      "  creating build\\lib.win-amd64-cpython-311\\pygtkcompat\n",
      "  copying pygtkcompat\\generictreemodel.py -> build\\lib.win-amd64-cpython-311\\pygtkcompat\n",
      "  copying pygtkcompat\\pygtkcompat.py -> build\\lib.win-amd64-cpython-311\\pygtkcompat\n",
      "  copying pygtkcompat\\__init__.py -> build\\lib.win-amd64-cpython-311\\pygtkcompat\n",
      "  creating build\\lib.win-amd64-cpython-311\\gi\n",
      "  copying gi\\docstring.py -> build\\lib.win-amd64-cpython-311\\gi\n",
      "  copying gi\\importer.py -> build\\lib.win-amd64-cpython-311\\gi\n",
      "  copying gi\\module.py -> build\\lib.win-amd64-cpython-311\\gi\n",
      "  copying gi\\pygtkcompat.py -> build\\lib.win-amd64-cpython-311\\gi\n",
      "  copying gi\\types.py -> build\\lib.win-amd64-cpython-311\\gi\n",
      "  copying gi\\_constants.py -> build\\lib.win-amd64-cpython-311\\gi\n",
      "  copying gi\\_error.py -> build\\lib.win-amd64-cpython-311\\gi\n",
      "  copying gi\\_gtktemplate.py -> build\\lib.win-amd64-cpython-311\\gi\n",
      "  copying gi\\_option.py -> build\\lib.win-amd64-cpython-311\\gi\n",
      "  copying gi\\_ossighelper.py -> build\\lib.win-amd64-cpython-311\\gi\n",
      "  copying gi\\_propertyhelper.py -> build\\lib.win-amd64-cpython-311\\gi\n",
      "  copying gi\\_signalhelper.py -> build\\lib.win-amd64-cpython-311\\gi\n",
      "  copying gi\\__init__.py -> build\\lib.win-amd64-cpython-311\\gi\n",
      "  creating build\\lib.win-amd64-cpython-311\\gi\\repository\n",
      "  copying gi\\repository\\__init__.py -> build\\lib.win-amd64-cpython-311\\gi\\repository\n",
      "  creating build\\lib.win-amd64-cpython-311\\gi\\overrides\n",
      "  copying gi\\overrides\\Gdk.py -> build\\lib.win-amd64-cpython-311\\gi\\overrides\n",
      "  copying gi\\overrides\\GdkPixbuf.py -> build\\lib.win-amd64-cpython-311\\gi\\overrides\n",
      "  copying gi\\overrides\\GIMarshallingTests.py -> build\\lib.win-amd64-cpython-311\\gi\\overrides\n",
      "  copying gi\\overrides\\Gio.py -> build\\lib.win-amd64-cpython-311\\gi\\overrides\n",
      "  copying gi\\overrides\\GLib.py -> build\\lib.win-amd64-cpython-311\\gi\\overrides\n",
      "  copying gi\\overrides\\GObject.py -> build\\lib.win-amd64-cpython-311\\gi\\overrides\n",
      "  copying gi\\overrides\\Gtk.py -> build\\lib.win-amd64-cpython-311\\gi\\overrides\n",
      "  copying gi\\overrides\\keysyms.py -> build\\lib.win-amd64-cpython-311\\gi\\overrides\n",
      "  copying gi\\overrides\\Pango.py -> build\\lib.win-amd64-cpython-311\\gi\\overrides\n",
      "  copying gi\\overrides\\__init__.py -> build\\lib.win-amd64-cpython-311\\gi\\overrides\n",
      "  running build_ext\n",
      "  pycairo: trying include directory: 'C:\\\\Users\\\\Dell\\\\AppData\\\\Local\\\\Temp\\\\pip-build-env-y0st2440\\\\overlay\\\\Lib\\\\site-packages\\\\cairo\\\\include'\n",
      "  pycairo: found 'C:\\\\Users\\\\Dell\\\\AppData\\\\Local\\\\Temp\\\\pip-build-env-y0st2440\\\\overlay\\\\Lib\\\\site-packages\\\\cairo\\\\include\\\\py3cairo.h'\n",
      "  building 'gi._gi' extension\n",
      "  creating build\\temp.win-amd64-cpython-311\n",
      "  creating build\\temp.win-amd64-cpython-311\\Release\n",
      "  creating build\\temp.win-amd64-cpython-311\\Release\\gi\n",
      "  \"C:\\Program Files\\Microsoft Visual Studio\\2022\\Community\\VC\\Tools\\MSVC\\14.37.32822\\bin\\HostX86\\x64\\cl.exe\" /c /nologo /O2 /W3 /GL /DNDEBUG /MD -DPY_SSIZE_T_CLEAN -IC:\\Users\\Dell\\AppData\\Local\\Temp\\pip-install-jr58jj7s\\pygobject_1952e2144d874e13854e827d58d54aab -IC:\\Users\\Dell\\AppData\\Local\\Temp\\pip-install-jr58jj7s\\pygobject_1952e2144d874e13854e827d58d54aab\\gi -IC:\\Users\\Dell\\anaconda3\\include -IC:\\Users\\Dell\\anaconda3\\Include \"-IC:\\Program Files\\Microsoft Visual Studio\\2022\\Community\\VC\\Tools\\MSVC\\14.37.32822\\include\" \"-IC:\\Program Files\\Microsoft Visual Studio\\2022\\Community\\VC\\Tools\\MSVC\\14.37.32822\\ATLMFC\\include\" \"-IC:\\Program Files\\Microsoft Visual Studio\\2022\\Community\\VC\\Auxiliary\\VS\\include\" \"-IC:\\Program Files (x86)\\Windows Kits\\10\\include\\10.0.22621.0\\ucrt\" \"-IC:\\Program Files (x86)\\Windows Kits\\10\\\\include\\10.0.22621.0\\\\um\" \"-IC:\\Program Files (x86)\\Windows Kits\\10\\\\include\\10.0.22621.0\\\\shared\" \"-IC:\\Program Files (x86)\\Windows Kits\\10\\\\include\\10.0.22621.0\\\\winrt\" \"-IC:\\Program Files (x86)\\Windows Kits\\10\\\\include\\10.0.22621.0\\\\cppwinrt\" /Tcgi\\gimodule.c /Fobuild\\temp.win-amd64-cpython-311\\Release\\gi\\gimodule.obj -FImsvc_recommended_pragmas.h\n",
      "  gimodule.c\n",
      "  gi\\gimodule.c: fatal error C1083: Cannot open include file: 'msvc_recommended_pragmas.h': No such file or directory\n",
      "  error: command 'C:\\\\Program Files\\\\Microsoft Visual Studio\\\\2022\\\\Community\\\\VC\\\\Tools\\\\MSVC\\\\14.37.32822\\\\bin\\\\HostX86\\\\x64\\\\cl.exe' failed with exit code 2\n",
      "  [end of output]\n",
      "  \n",
      "  note: This error originates from a subprocess, and is likely not a problem with pip.\n",
      "  ERROR: Failed building wheel for pygobject\n",
      "ERROR: Could not build wheels for pygobject, which is required to install pyproject.toml-based projects\n"
     ]
    }
   ],
   "source": [
    "!pip install pygobject"
   ]
  },
  {
   "cell_type": "code",
   "execution_count": 1,
   "id": "67e485aa",
   "metadata": {},
   "outputs": [],
   "source": [
    "summary =  \"Usually any machine learning or deep learning process has some similar steps, but in this case of terms of flow it is so simple any typical machine learning life Lord any process has some of the steps like collection of data set than building the model training the network evaluating the model and then predicting the outcome in case of tensorflow.Tensorflow bundles together a study of machine learning and deep learning models and algorithms and make them useful by way of common metaphor who will use machine learning and all of its products to improve the search engine the translation image captioning or the recommendations to give you a concrete example, Google users can experience a faster and more refined search with artificial intelligence.Each node in the graph represents a mathematical operation and each connection or Edge between the notes is a multi-dimensional data array or tensile test flow provides all of this for the programmer by way of the Python language by then is easy to learn and work with and provides convenient ways to express how high-level abstraction can be coupled together notes and the tensor in the tensorflow our python objects.China mobile is using tensorflow to improve their success rate of the network element cut overs Channel while has created a deep Fist amusing tensorflow that can automatically predicts the cut over time window verify log operations and detect Network anomalies and this has already successfully supported the world's largest relocation of hundreds of millions iot HSS.is training a neural network to identify specific anatomic during the brain MRI exam to help improve speed and reliability now PayPal is using it as a flow to stay at The Cutting Edge of fraud detection using tensorflow deep trance for Learning and Generator modeling PayPalCNTK the Microsoft cognitive toolkit, like tensorflow uses a graph structure to describe the data flow, but it focuses more on creating deep learningIt is also in the market another thing that gives tensorflow Edge over other competitors is the fact that it is open source and has a huge Community Support that not only provides researchers a way to build new models, but also a platform to interact with others that face some issues if we talk about a simple program in terms of flow.Thanks to machine learning Frameworks such as Google's TensorFlow that ease the process of acquiring data, training model, solving predictions and refining future results.The Airbnb ingenious and data science team applies machine learning using tensorflow to classify the images and detect objects at scale helping to improve the guest experienceYou can build and train models by using the high-level Kira's API, which makes getting started with tensorflow and machine learning very very easy.Now the actual math operations however are not performed in Python the libraries of transformation data available through tears flow are written as high performance C++ binaries python just directs the traffic between the pieces and provides high level programming attraction to hook them together now building a new rail.Machine learning is a complex discipline but implementing machine learning models is far less daunting and difficult than it used to be.There's a flow allows the developers to create a data flow graphs which are structures that describe how the data move through a graph or a series of processing nodes.Created by the Google brain team tensorflow is an open source library for numerical computation and large scale machine learning.The model is also a single line of code now training a neural network cannot get any more easier than this and that is why it is the flow remains at the top when compared to the other competitors.No talking about Apache MXNet adopted by Amazon as a premier deep learning framework on AWS can scale almost linearly across multiple gpus and multiple machine.If you need more flexibility Iker execution allows for immediate iteration and intuitive debugging when you enable eager execution, you will be executing tensorflow kernels immediately rather than constructing graphs that will be executed laterThe network is just a single line evaluating the network or the model itself is a single line of code and predicting\""
   ]
  },
  {
   "cell_type": "code",
   "execution_count": 2,
   "id": "2d94966a",
   "metadata": {
    "scrolled": false
   },
   "outputs": [
    {
     "name": "stdout",
     "output_type": "stream",
     "text": [
      "CHECK OUT YOUR SOURCE LANGUAGE FROM BELOW:\n",
      " \n",
      "af-afrikaans\n",
      "sq-albanian\n",
      "am-amharic\n",
      "ar-arabic\n",
      "hy-armenian\n",
      "az-azerbaijani\n",
      "eu-basque\n",
      "be-belarusian\n",
      "bn-bengali\n",
      "bs-bosnian\n",
      "bg-bulgarian\n",
      "ca-catalan\n",
      "ceb-cebuano\n",
      "ny-chichewa\n",
      "zh-cn-chinese (simplified)\n",
      "zh-tw-chinese (traditional)\n",
      "co-corsican\n",
      "hr-croatian\n",
      "cs-czech\n",
      "da-danish\n",
      "nl-dutch\n",
      "en-english\n",
      "eo-esperanto\n",
      "et-estonian\n",
      "tl-filipino\n",
      "fi-finnish\n",
      "fr-french\n",
      "fy-frisian\n",
      "gl-galician\n",
      "ka-georgian\n",
      "de-german\n",
      "el-greek\n",
      "gu-gujarati\n",
      "ht-haitian creole\n",
      "ha-hausa\n",
      "haw-hawaiian\n",
      "iw-hebrew\n",
      "he-hebrew\n",
      "hi-hindi\n",
      "hmn-hmong\n",
      "hu-hungarian\n",
      "is-icelandic\n",
      "ig-igbo\n",
      "id-indonesian\n",
      "ga-irish\n",
      "it-italian\n",
      "ja-japanese\n",
      "jw-javanese\n",
      "kn-kannada\n",
      "kk-kazakh\n",
      "km-khmer\n",
      "ko-korean\n",
      "ku-kurdish (kurmanji)\n",
      "ky-kyrgyz\n",
      "lo-lao\n",
      "la-latin\n",
      "lv-latvian\n",
      "lt-lithuanian\n",
      "lb-luxembourgish\n",
      "mk-macedonian\n",
      "mg-malagasy\n",
      "ms-malay\n",
      "ml-malayalam\n",
      "mt-maltese\n",
      "mi-maori\n",
      "mr-marathi\n",
      "mn-mongolian\n",
      "my-myanmar (burmese)\n",
      "ne-nepali\n",
      "no-norwegian\n",
      "or-odia\n",
      "ps-pashto\n",
      "fa-persian\n",
      "pl-polish\n",
      "pt-portuguese\n",
      "pa-punjabi\n",
      "ro-romanian\n",
      "ru-russian\n",
      "sm-samoan\n",
      "gd-scots gaelic\n",
      "sr-serbian\n",
      "st-sesotho\n",
      "sn-shona\n",
      "sd-sindhi\n",
      "si-sinhala\n",
      "sk-slovak\n",
      "sl-slovenian\n",
      "so-somali\n",
      "es-spanish\n",
      "su-sundanese\n",
      "sw-swahili\n",
      "sv-swedish\n",
      "tg-tajik\n",
      "ta-tamil\n",
      "te-telugu\n",
      "th-thai\n",
      "tr-turkish\n",
      "uk-ukrainian\n",
      "ur-urdu\n",
      "ug-uyghur\n",
      "uz-uzbek\n",
      "vi-vietnamese\n",
      "cy-welsh\n",
      "xh-xhosa\n",
      "yi-yiddish\n",
      "yo-yoruba\n",
      "zu-zulu\n",
      "ENTER LANGUAGE CODE: hi\n"
     ]
    }
   ],
   "source": [
    "import googletrans\n",
    "from deep_translator import GoogleTranslator\n",
    "from deep_translator import MicrosoftTranslator\n",
    "print(\"CHECK OUT YOUR SOURCE LANGUAGE FROM BELOW:\")\n",
    "print(\" \")\n",
    "langdict=googletrans.LANGUAGES\n",
    "for i in langdict :\n",
    "    print(i+\"-\" +langdict[i])\n",
    "srclang=input(\"ENTER LANGUAGE CODE: \")"
   ]
  },
  {
   "cell_type": "code",
   "execution_count": 3,
   "id": "eee3920a",
   "metadata": {},
   "outputs": [
    {
     "name": "stdout",
     "output_type": "stream",
     "text": [
      "YOUR TRANSLATED SUMMARY IS GIVEN BELOW:\n",
      " \n",
      "आमतौर पर किसी भी मशीन लर्निंग या डीप लर्निंग प्रक्रिया में कुछ समान चरण होते हैं, लेकिन प्रवाह की शर्तों के मामले में यह इतना सरल है कि किसी भी सामान्य मशीन लर्निंग जीवन में भगवान किसी भी प्रक्रिया में मॉडल प्रशिक्षण नेटवर्क के निर्माण की तुलना में डेटा सेट के संग्रह जैसे कुछ चरण होते हैं। मॉडल का मूल्यांकन करना और फिर टेंसरफ्लो के मामले में परिणाम की भविष्यवाणी करना। टेंसरफ्लो मशीन लर्निंग और डीप लर्निंग मॉडल और एल्गोरिदम के अध्ययन को एक साथ जोड़ता है और उन्हें सामान्य रूपक के माध्यम से उपयोगी बनाता है जो खोज को बेहतर बनाने के लिए मशीन लर्निंग और उसके सभी उत्पादों का उपयोग करेगा। इंजन अनुवाद छवि कैप्शनिंग या आपको एक ठोस उदाहरण देने के लिए सिफारिशें, Google उपयोगकर्ता कृत्रिम बुद्धिमत्ता के साथ तेज़ और अधिक परिष्कृत खोज का अनुभव कर सकते हैं। ग्राफ़ में प्रत्येक नोड एक गणितीय ऑपरेशन का प्रतिनिधित्व करता है और नोट्स के बीच प्रत्येक कनेक्शन या एज एक बहु- है आयामी डेटा सरणी या तन्यता परीक्षण प्रवाह प्रोग्रामर के लिए पायथन भाषा के माध्यम से यह सब प्रदान करता है, तब तक इसे सीखना और काम करना आसान हो जाता है और यह व्यक्त करने के लिए सुविधाजनक तरीके प्रदान करता है कि कैसे उच्च-स्तरीय अमूर्तता को नोट्स और टेंसर के साथ जोड़ा जा सकता है। टेंसरफ्लो हमारे पायथन ऑब्जेक्ट्स। चाइना मोबाइल नेटवर्क एलिमेंट कट ओवर चैनल की सफलता दर में सुधार करने के लिए टेंसरफ्लो का उपयोग कर रहा है, जबकि एक गहरी मुट्ठी मनोरंजक टेंसरफ्लो बनाया है जो स्वचालित रूप से समय के साथ कट की भविष्यवाणी कर सकता है, लॉग ऑपरेशंस को सत्यापित कर सकता है और नेटवर्क विसंगतियों का पता लगा सकता है और यह पहले से ही है दुनिया के करोड़ों आईओटी एचएसएस के सबसे बड़े स्थानांतरण का सफलतापूर्वक समर्थन किया। गति और विश्वसनीयता में सुधार करने में मदद करने के लिए मस्तिष्क एमआरआई परीक्षा के दौरान विशिष्ट शारीरिक संरचना की पहचान करने के लिए एक तंत्रिका नेटवर्क को प्रशिक्षित किया जा रहा है, अब पेपैल इसे धोखाधड़ी का पता लगाने के अत्याधुनिक स्तर पर बने रहने के लिए एक प्रवाह के रूप में उपयोग कर रहा है। लर्निंग और जेनरेटर मॉडलिंग PayPalCNTK के लिए टेन्सरफ़्लो डीप ट्रान्स का उपयोग करना, Microsoft संज्ञानात्मक टूलकिट, टेन्सरफ़्लो की तरह डेटा प्रवाह का वर्णन करने के लिए एक ग्राफ़ संरचना का उपयोग करता है, लेकिन यह गहन शिक्षण बनाने पर अधिक ध्यान केंद्रित करता है। यह बाज़ार में एक और चीज़ भी है जो टेन्सरफ़्लो को अन्य प्रतिस्पर्धियों पर बढ़त देती है। तथ्य यह है कि यह खुला स्रोत है और इसमें विशाल सामुदायिक समर्थन है जो न केवल शोधकर्ताओं को नए मॉडल बनाने का एक तरीका प्रदान करता है, बल्कि प्रवाह के संदर्भ में एक सरल कार्यक्रम के बारे में बात करने पर कुछ मुद्दों का सामना करने वाले अन्य लोगों के साथ बातचीत करने का एक मंच भी प्रदान करता है। धन्यवाद Google के TensorFlow जैसे मशीन लर्निंग फ्रेमवर्क जो डेटा प्राप्त करने, मॉडल को प्रशिक्षित करने, भविष्यवाणियों को हल करने और भविष्य के परिणामों को परिष्कृत करने की प्रक्रिया को आसान बनाते हैं। Airbnb सरल और डेटा विज्ञान टीम छवियों को वर्गीकृत करने और बड़े पैमाने पर वस्तुओं का पता लगाने में सुधार करने में मदद करने के लिए टेंसरफ़्लो का उपयोग करके मशीन लर्निंग लागू करती है अतिथि अनुभव आप उच्च-स्तरीय किरा एपीआई का उपयोग करके मॉडल बना सकते हैं और प्रशिक्षित कर सकते हैं, जो टेंसरफ्लो और मशीन लर्निंग के साथ शुरुआत करना बहुत आसान बनाता है। अब वास्तविक गणित संचालन पायथन में नहीं किए जाते हैं, परिवर्तन डेटा के पुस्तकालय आँसू प्रवाह के माध्यम से उपलब्ध हैं उच्च प्रदर्शन C++ बायनेरिज़ के रूप में लिखे गए हैं, पायथन केवल टुकड़ों के बीच यातायात को निर्देशित करता है और उन्हें एक साथ जोड़ने के लिए उच्च स्तरीय प्रोग्रामिंग आकर्षण प्रदान करता है, अब एक नई रेल का निर्माण करता है। मशीन लर्निंग एक जटिल अनुशासन है, लेकिन मशीन लर्निंग मॉडल को लागू करना इसकी तुलना में बहुत कम चुनौतीपूर्ण और कठिन है। हुआ करता था। एक प्रवाह है जो डेवलपर्स को डेटा प्रवाह ग्राफ़ बनाने की अनुमति देता है जो संरचनाएं हैं जो वर्णन करती हैं कि डेटा ग्राफ़ या प्रसंस्करण नोड्स की श्रृंखला के माध्यम से कैसे चलता है। Google मस्तिष्क टीम द्वारा निर्मित टेंसरफ़्लो संख्यात्मक गणना के लिए एक ओपन सोर्स लाइब्रेरी है और बड़े पैमाने पर मशीन लर्निंग। मॉडल भी कोड की एक एकल पंक्ति है, अब एक तंत्रिका नेटवर्क को प्रशिक्षित करना इससे अधिक आसान नहीं हो सकता है और यही कारण है कि अन्य प्रतिस्पर्धियों की तुलना में इसका प्रवाह शीर्ष पर रहता है। अपाचे के बारे में कोई बात नहीं हो रही है अमेज़ॅन द्वारा AWS पर एक प्रमुख डीप लर्निंग फ्रेमवर्क के रूप में अपनाया गया MXNet कई जीपीएस और मल्टीपल मशीन में लगभग रैखिक रूप से स्केल कर सकता है। यदि आपको अधिक लचीलेपन की आवश्यकता है तो Iker निष्पादन तत्काल पुनरावृत्ति और सहज डिबगिंग की अनुमति देता है जब आप उत्सुक निष्पादन सक्षम करते हैं, तो आप तुरंत टेंसरफ़्लो कर्नेल निष्पादित कर रहे होंगे। ग्राफ़ बनाने के बजाय जिसे बाद में निष्पादित किया जाएगा, नेटवर्क केवल नेटवर्क का मूल्यांकन करने वाली एक एकल पंक्ति है या मॉडल स्वयं कोड और भविष्यवाणी की एक एकल पंक्ति है\n"
     ]
    }
   ],
   "source": [
    "to_translate = summary \n",
    "translated = GoogleTranslator(source = 'auto' , target = srclang ).translate(to_translate)\n",
    "print(\"YOUR TRANSLATED SUMMARY IS GIVEN BELOW:\")\n",
    "print(\" \")\n",
    "print(translated)"
   ]
  },
  {
   "cell_type": "code",
   "execution_count": 4,
   "id": "8b703f79",
   "metadata": {},
   "outputs": [],
   "source": [
    "import gtts"
   ]
  },
  {
   "cell_type": "code",
   "execution_count": 5,
   "id": "b7ac0e23",
   "metadata": {},
   "outputs": [
    {
     "name": "stdout",
     "output_type": "stream",
     "text": [
      "choose the below option:\n",
      " \n",
      "E for converting extracted summary to speech.\n",
      "T for converting translated summary to speech.\n",
      "B for converting both translated and extracted summary to speech.\n",
      "Enter your choice: T\n"
     ]
    }
   ],
   "source": [
    "print(\"choose the below option:\")\n",
    "print(\" \")\n",
    "print(\"E for converting extracted summary to speech.\\n\" \"T for converting translated summary to speech.\\n\" \"B for converting both translated and extracted summary to speech.\")\n",
    "option=input(\"Enter your choice: \")"
   ]
  },
  {
   "cell_type": "code",
   "execution_count": 6,
   "id": "ca8af6aa",
   "metadata": {},
   "outputs": [
    {
     "name": "stdout",
     "output_type": "stream",
     "text": [
      "Enter name of Translated Summary file: hindi2\n"
     ]
    }
   ],
   "source": [
    "if option=='E' or option=='e':\n",
    "  speechtext=summary\n",
    "  speech1=gtts.gTTS(speechtext)\n",
    "  name1=input(\"Enter name of Extracted Summary file: \")\n",
    "  speech1.save(name1+\".mp3\")\n",
    "\n",
    "elif option=='T' or option=='t':\n",
    "  speechtext=translated\n",
    "  speech1=gtts.gTTS(speechtext)\n",
    "  name2=input(\"Enter name of Translated Summary file: \")\n",
    "  speech1.save(name2+\".mp3\")\n",
    "\n",
    "elif option=='B' or option=='b':\n",
    "  speechtext1=summary\n",
    "  speechtext2=translated\n",
    "  speech1=gtts.gTTS(speechtext1)\n",
    "  speech2=gtts.gTTS(speechtext2)\n",
    "  name1=input(\"Enter name of Extracted Summary file: \")\n",
    "  name2=input(\"Enter name of Translated Summary file: \")\n",
    "  speech1.save(name1+\".mp3\")\n",
    "  speech2.save(name2+\".mp3\")\n",
    "\n",
    "else:\n",
    "  print(\"Invalid Option\")"
   ]
  },
  {
   "cell_type": "code",
   "execution_count": null,
   "id": "88091c30",
   "metadata": {},
   "outputs": [],
   "source": []
  }
 ],
 "metadata": {
  "kernelspec": {
   "display_name": "Python 3 (ipykernel)",
   "language": "python",
   "name": "python3"
  },
  "language_info": {
   "codemirror_mode": {
    "name": "ipython",
    "version": 3
   },
   "file_extension": ".py",
   "mimetype": "text/x-python",
   "name": "python",
   "nbconvert_exporter": "python",
   "pygments_lexer": "ipython3",
   "version": "3.11.4"
  }
 },
 "nbformat": 4,
 "nbformat_minor": 5
}
