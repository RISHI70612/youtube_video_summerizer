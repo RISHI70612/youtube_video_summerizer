{
 "cells": [
  {
   "cell_type": "code",
   "execution_count": 1,
   "id": "53faf925",
   "metadata": {},
   "outputs": [],
   "source": [
    "import math\n",
    "\n",
    "from nltk import sent_tokenize, word_tokenize, PorterStemmer\n",
    "from nltk.corpus import stopwords "
   ]
  },
  {
   "cell_type": "code",
   "execution_count": 5,
   "id": "5a2695be",
   "metadata": {},
   "outputs": [],
   "source": [
    "text_content ='''The Russian tycoon Oleg Tinkov has denounced Moscow’s “massacre” in Ukraine and urged the west to help end “this insane war”.\n",
    "\n",
    "Offering some of the strongest criticism by a prominent Russian of the Kremlin’s military action, Tinkov claimed online that 90% of Russians were “against this war” and called Russia’s forces a “shit army”.\n",
    "\n",
    "Tinkov is one of Russia’s best-known entrepreneurs and founded Tinkoff Bank in 2006. He has been based outside Russia in recent years.\n",
    "\n",
    "“Waking up with a hangover, the generals realised that they have a shit army,” Tinkov, 54, wrote on Instagram.\n",
    "\n",
    "“And how will the army be good, if everything else in the country is shit and mired in nepotism, sycophancy and servility?”\n",
    "\n",
    "The businessman, who has been targeted by western sanctions, added: “I don’t see a SINGLE beneficiary of this insane war! Innocent people and soldiers are dying.”\n",
    "\n",
    "Switching to English, Tinkov, who stepped down as chairman of Tinkoff Bank in 2020, wrote: “Dear ‘collective west’ please give Mr Putin a clear exit to save his face and stop this massacre. Please be more rational and humanitarian.”\n",
    "\n",
    "He posted his statement on the 55th day of Moscow’s military campaign, with Russian forces unleashing a major new offensive in the eastern Donbas region.\n",
    "\n",
    "“90 percent of Russians ARE against this war!” Tinkov said. “Of course there are morons who draw Z but 10 percent of any country are morons,” he said, referring to what has become a Russian symbol of support for the war.\n",
    "\n",
    "He added that Kremlin officials were “in shock” that they and their children would no longer be able to spend their summer holidays on the Mediterranean. “Businessmen are trying to rescue what’s left of their property.”\n",
    "\n",
    "Russian authorities have sought to strangle dissent over Moscow’s invasion of Ukraine, imposing prison terms of up to 15 years for publishing what the Kremlin calls “fake news” about the army.\n",
    "\n",
    "Tinkoff Bank said in a statement that it would not comment on Tinkov’s “private opinion”, saying he no longer took decisions regarding operations across companies under the Tinkoff brand. “He is not a Tinkoff employee.”\n",
    "\n",
    "Russia’s president, Vladimir Putin, sent troops to Ukraine on 24 February. The conflict has killed thousands of people and displaced more than 12 million in the largest refugee crisis in Europe since the second world war.'''"
   ]
  },
  {
   "cell_type": "code",
   "execution_count": 6,
   "id": "73eaa16e",
   "metadata": {},
   "outputs": [],
   "source": [
    "text= text_content\n"
   ]
  },
  {
   "cell_type": "code",
   "execution_count": 7,
   "id": "16a7cb14",
   "metadata": {},
   "outputs": [],
   "source": [
    "sentences = sent_tokenize(text)\n",
    "total_documents = len(sentences)"
   ]
  },
  {
   "cell_type": "code",
   "execution_count": 8,
   "id": "18e3b80d",
   "metadata": {},
   "outputs": [],
   "source": [
    "def _score_sentences(tf_idf_matrix) -> dict:\n",
    "    \"\"\"\n",
    "    score a sentence by its word's TF\n",
    "    Basic algorithm: adding the TF frequency of every non-stop word in a sentence divided by total no of words in a sentence.\n",
    "    :rtype: dict\n",
    "    \"\"\"\n",
    "\n",
    "    sentenceValue = {}\n",
    "\n",
    "    for sent, f_table in tf_idf_matrix.items():\n",
    "        total_score_per_sentence = 0\n",
    "\n",
    "        count_words_in_sentence = len(f_table)\n",
    "        for word, score in f_table.items():\n",
    "            total_score_per_sentence += score\n",
    "\n",
    "        sentenceValue[sent] = total_score_per_sentence / count_words_in_sentence\n",
    "\n",
    "    return sentenceValue"
   ]
  },
  {
   "cell_type": "code",
   "execution_count": 19,
   "id": "7d5202f6",
   "metadata": {},
   "outputs": [],
   "source": [
    "def _generate_summary(sentences, sentenceValue, threshold):\n",
    "    sentence_count = 0\n",
    "    summary = ''\n",
    "\n",
    "    for sentence in sentences:\n",
    "        if sentence[:15] in sentenceValue and sentenceValue[sentence[:15]] >= (threshold):\n",
    "            summary += \" \" + sentence\n",
    "            sentence_count += 1\n",
    "\n",
    "    return summary"
   ]
  },
  {
   "cell_type": "code",
   "execution_count": 17,
   "id": "6e11fce8",
   "metadata": {},
   "outputs": [],
   "source": [
    "def _find_average_score(sentenceValue) -> int:\n",
    "    \"\"\"\n",
    "    Find the average score from the sentence value dictionary\n",
    "    :rtype: int\n",
    "    \"\"\"\n",
    "    sumValues = 0\n",
    "    for entry in sentenceValue:\n",
    "        sumValues += sentenceValue[entry]\n",
    "\n",
    "    # Average value of a sentence from original summary_text\n",
    "    average = (sumValues / len(sentenceValue))\n",
    "\n",
    "    return average"
   ]
  },
  {
   "cell_type": "code",
   "execution_count": 9,
   "id": "429dbefe",
   "metadata": {},
   "outputs": [],
   "source": [
    "def _create_tf_idf_matrix(tf_matrix, idf_matrix):\n",
    "    tf_idf_matrix = {}\n",
    "\n",
    "    for (sent1, f_table1), (sent2, f_table2) in zip(tf_matrix.items(), idf_matrix.items()):\n",
    "\n",
    "        tf_idf_table = {}\n",
    "\n",
    "        for (word1, value1), (word2, value2) in zip(f_table1.items(),\n",
    "                                                    f_table2.items()):  # here, keys are the same in both the table\n",
    "            tf_idf_table[word1] = float(value1 * value2)\n",
    "\n",
    "        tf_idf_matrix[sent1] = tf_idf_table\n",
    "\n",
    "    return tf_idf_matrix"
   ]
  },
  {
   "cell_type": "code",
   "execution_count": 10,
   "id": "ec2f43cd",
   "metadata": {},
   "outputs": [],
   "source": [
    "def _create_idf_matrix(freq_matrix, count_doc_per_words, total_documents):\n",
    "    idf_matrix = {}\n",
    "\n",
    "    for sent, f_table in freq_matrix.items():\n",
    "        idf_table = {}\n",
    "\n",
    "        for word in f_table.keys():\n",
    "            idf_table[word] = math.log10(total_documents / float(count_doc_per_words[word]))\n",
    "\n",
    "        idf_matrix[sent] = idf_table\n",
    "\n",
    "    return idf_matrix"
   ]
  },
  {
   "cell_type": "code",
   "execution_count": 13,
   "id": "c4b56960",
   "metadata": {},
   "outputs": [],
   "source": [
    "def _create_documents_per_words(freq_matrix):\n",
    "    word_per_doc_table = {}\n",
    "\n",
    "    for sent, f_table in freq_matrix.items():\n",
    "        for word, count in f_table.items():\n",
    "            if word in word_per_doc_table:\n",
    "                word_per_doc_table[word] += 1\n",
    "            else:\n",
    "                word_per_doc_table[word] = 1\n",
    "\n",
    "    return word_per_doc_table"
   ]
  },
  {
   "cell_type": "code",
   "execution_count": 14,
   "id": "37d2a52f",
   "metadata": {},
   "outputs": [],
   "source": [
    "def _create_tf_matrix(freq_matrix):\n",
    "    tf_matrix = {}\n",
    "\n",
    "    for sent, f_table in freq_matrix.items():\n",
    "        tf_table = {}\n",
    "\n",
    "        count_words_in_sentence = len(f_table)\n",
    "        for word, count in f_table.items():\n",
    "            tf_table[word] = count / count_words_in_sentence\n",
    "\n",
    "        tf_matrix[sent] = tf_table\n",
    "\n",
    "    return tf_matrix"
   ]
  },
  {
   "cell_type": "code",
   "execution_count": 15,
   "id": "114b2e5f",
   "metadata": {},
   "outputs": [],
   "source": [
    "def _create_frequency_matrix(sentences):\n",
    "    frequency_matrix = {}\n",
    "    stopWords = set(stopwords.words(\"english\"))\n",
    "    ps = PorterStemmer()\n",
    "\n",
    "    for sent in sentences:\n",
    "        freq_table = {}\n",
    "        words = word_tokenize(sent)\n",
    "        for word in words:\n",
    "            word = word.lower()\n",
    "            word = ps.stem(word)\n",
    "            if word in stopWords:\n",
    "                continue\n",
    "\n",
    "            if word in freq_table:\n",
    "                freq_table[word] += 1\n",
    "            else:\n",
    "                freq_table[word] = 1\n",
    "\n",
    "        frequency_matrix[sent[:15]] = freq_table\n",
    "\n",
    "    return frequency_matrix"
   ]
  },
  {
   "cell_type": "code",
   "execution_count": 11,
   "id": "b636249a",
   "metadata": {},
   "outputs": [
    {
     "name": "stdout",
     "output_type": "stream",
     "text": [
      "The Russian tycoon Oleg Tinkov has denounced Moscow’s “massacre” in Ukraine and urged the west to help end “this insane war”.\n",
      "\n",
      "Offering some of the strongest criticism by a prominent Russian of the Kremlin’s military action, Tinkov claimed online that 90% of Russians were “against this war” and called Russia’s forces a “shit army”.\n",
      "\n",
      "Tinkov is one of Russia’s best-known entrepreneurs and founded Tinkoff Bank in 2006. He has been based outside Russia in recent years.\n",
      "\n",
      "“Waking up with a hangover, the generals realised that they have a shit army,” Tinkov, 54, wrote on Instagram.\n",
      "\n",
      "“And how will the army be good, if everything else in the country is shit and mired in nepotism, sycophancy and servility?”\n",
      "\n",
      "The businessman, who has been targeted by western sanctions, added: “I don’t see a SINGLE beneficiary of this insane war! Innocent people and soldiers are dying.”\n",
      "\n",
      "Switching to English, Tinkov, who stepped down as chairman of Tinkoff Bank in 2020, wrote: “Dear ‘collective west’ please give Mr Putin a clear exit to save his face and stop this massacre. Please be more rational and humanitarian.”\n",
      "\n",
      "He posted his statement on the 55th day of Moscow’s military campaign, with Russian forces unleashing a major new offensive in the eastern Donbas region.\n",
      "\n",
      "“90 percent of Russians ARE against this war!” Tinkov said. “Of course there are morons who draw Z but 10 percent of any country are morons,” he said, referring to what has become a Russian symbol of support for the war.\n",
      "\n",
      "He added that Kremlin officials were “in shock” that they and their children would no longer be able to spend their summer holidays on the Mediterranean. “Businessmen are trying to rescue what’s left of their property.”\n",
      "\n",
      "Russian authorities have sought to strangle dissent over Moscow’s invasion of Ukraine, imposing prison terms of up to 15 years for publishing what the Kremlin calls “fake news” about the army.\n",
      "\n",
      "Tinkoff Bank said in a statement that it would not comment on Tinkov’s “private opinion”, saying he no longer took decisions regarding operations across companies under the Tinkoff brand. “He is not a Tinkoff employee.”\n",
      "\n",
      "Russia’s president, Vladimir Putin, sent troops to Ukraine on 24 February. The conflict has killed thousands of people and displaced more than 12 million in the largest refugee crisis in Europe since the second world war.\n"
     ]
    }
   ],
   "source": [
    "print(text)"
   ]
  },
  {
   "cell_type": "code",
   "execution_count": null,
   "id": "27429a49",
   "metadata": {},
   "outputs": [],
   "source": []
  },
  {
   "cell_type": "code",
   "execution_count": 20,
   "id": "a380d3a6",
   "metadata": {},
   "outputs": [
    {
     "name": "stdout",
     "output_type": "stream",
     "text": [
      " The Russian tycoon Oleg Tinkov has denounced Moscow’s “massacre” in Ukraine and urged the west to help end “this insane war”. Tinkov is one of Russia’s best-known entrepreneurs and founded Tinkoff Bank in 2006. He has been based outside Russia in recent years. “Waking up with a hangover, the generals realised that they have a shit army,” Tinkov, 54, wrote on Instagram. Please be more rational and humanitarian.”\n",
      "\n",
      "He posted his statement on the 55th day of Moscow’s military campaign, with Russian forces unleashing a major new offensive in the eastern Donbas region. “90 percent of Russians ARE against this war!” Tinkov said. “Of course there are morons who draw Z but 10 percent of any country are morons,” he said, referring to what has become a Russian symbol of support for the war. He added that Kremlin officials were “in shock” that they and their children would no longer be able to spend their summer holidays on the Mediterranean. Tinkoff Bank said in a statement that it would not comment on Tinkov’s “private opinion”, saying he no longer took decisions regarding operations across companies under the Tinkoff brand. “He is not a Tinkoff employee.”\n",
      "\n",
      "Russia’s president, Vladimir Putin, sent troops to Ukraine on 24 February. The conflict has killed thousands of people and displaced more than 12 million in the largest refugee crisis in Europe since the second world war.\n"
     ]
    }
   ],
   "source": [
    "sentences = sent_tokenize(text)\n",
    "total_documents = len(sentences)\n",
    "\n",
    "\n",
    "freq_matrix = _create_frequency_matrix(sentences)\n",
    "\n",
    "\n",
    "\n",
    "tf_matrix = _create_tf_matrix(freq_matrix)\n",
    "\n",
    "count_doc_per_words = _create_documents_per_words(freq_matrix)\n",
    "\n",
    "\n",
    "idf_matrix = _create_idf_matrix(freq_matrix, count_doc_per_words, total_documents)\n",
    "\n",
    "tf_idf_matrix = _create_tf_idf_matrix(tf_matrix, idf_matrix)\n",
    "\n",
    "sentence_scores = _score_sentences(tf_idf_matrix)\n",
    "\n",
    "threshold = _find_average_score(sentence_scores)\n",
    "\n",
    "\n",
    "summary = _generate_summary(sentences, sentence_scores, 0.7 * threshold)\n",
    "print(summary)\n"
   ]
  },
  {
   "cell_type": "code",
   "execution_count": null,
   "id": "41a8a2ab",
   "metadata": {},
   "outputs": [],
   "source": []
  }
 ],
 "metadata": {
  "kernelspec": {
   "display_name": "Python 3 (ipykernel)",
   "language": "python",
   "name": "python3"
  },
  "language_info": {
   "codemirror_mode": {
    "name": "ipython",
    "version": 3
   },
   "file_extension": ".py",
   "mimetype": "text/x-python",
   "name": "python",
   "nbconvert_exporter": "python",
   "pygments_lexer": "ipython3",
   "version": "3.11.4"
  }
 },
 "nbformat": 4,
 "nbformat_minor": 5
}
